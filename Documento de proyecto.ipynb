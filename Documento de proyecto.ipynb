{
 "cells": [
  {
   "cell_type": "markdown",
   "metadata": {},
   "source": [
    "##  <font color= \"blue\">Materia :</font> Simulacion Matematica \n",
    "## <font color= \"blue\">Proyecto :</font> \"La simulacion en las finanzas bursatiles\"\n"
   ]
  },
  {
   "cell_type": "markdown",
   "metadata": {},
   "source": [
    "## 1.2 Objetivos"
   ]
  },
  {
   "cell_type": "markdown",
   "metadata": {},
   "source": [
    "     El objetivo general del proyecto es tratar de lograr una ecuacion con los datos de tiempo y precios a traves de        minimos cuadrados para despues utilizar la funcion en predicciones del precio de esa accion o futuros                  movimientos del mercado."
   ]
  },
  {
   "cell_type": "markdown",
   "metadata": {},
   "source": [
    "### <font color= \"red\">Objetivos especificos</font>"
   ]
  },
  {
   "cell_type": "markdown",
   "metadata": {},
   "source": [
    "· El trabajo tiene como objetivo el usar las herramientas aprendidas durante la primera parte del curso de simulacion matematica\n",
    " \n",
    "  · Aplicar la tabulacion, importar y manipular bases externas de datos, utilizar herramientas de las gráficas.\n",
    "  \n",
    "  · Ajustar una curva al comportamiento de una accion o mercado"
   ]
  },
  {
   "cell_type": "markdown",
   "metadata": {},
   "source": [
    "**Los componentes del trabajo son **\n",
    "1. Importar bibliotecas y datos financieros a traves de pandas_datareader.\n",
    "2. Tabular de datos y fechas con datetime.\n",
    "3. Graficar los datos obtenidos.\n",
    "4. Adaptar la grafica para una mejor comprension de los datos.\n",
    "5. Manipular los datos para crear en funciones, como la volatilidad.\n",
    "6. Utilizar libreria de optimizacion para aplicar el metodo minimize en las funciones.\n",
    "7. Usar la funcion de grado n que mejor se adapte. "
   ]
  },
  {
   "cell_type": "markdown",
   "metadata": {},
   "source": [
    "## 1.6 Conclusiones"
   ]
  },
  {
   "cell_type": "markdown",
   "metadata": {},
   "source": [
    "        Durante todo el desarrollo de este proyecto tuvimos que aplicar varios metodos vistos en clase, si no es que todos, y investigar algunas cosas para lograr un trabajo más completo. Los objetivos del proyecto se pudieron lograr debido a que se usaron las bibliotecas numpy, simpy, matplotlib y otras vistas en clase, asi como herramientas de estas para poder tabular y graficar. \n",
    "        El uso de pandas y scipy.optimize fueron importantes para el trabajo, debido a que uno extrajo los datos y el otro se uso para la optimizacion de los mismos, y encontrar las funciones que se ajustaban a la curva, se pudo notar en el procedimiento que un polinomio de grado 3 era el que mejor se ajustaba a la curva, sin embargo todavia tenia un error muy grande, lo cual para fines de prediccion no sirve mucho. \n",
    "        Con las tendencias primarias y secundarias pudimos concluir como la curva tiene una tendencia alcista.\n",
    "        "
   ]
  },
  {
   "cell_type": "markdown",
   "metadata": {},
   "source": [
    "## 1.7 Bibliografia"
   ]
  },
  {
   "cell_type": "code",
   "execution_count": 1,
   "metadata": {},
   "outputs": [],
   "source": [
    "import pandas as pd"
   ]
  },
  {
   "cell_type": "code",
   "execution_count": 3,
   "metadata": {},
   "outputs": [
    {
     "ename": "ModuleNotFoundError",
     "evalue": "No module named 'pandas_datareader'",
     "output_type": "error",
     "traceback": [
      "\u001b[0;31m---------------------------------------------------------------------------\u001b[0m",
      "\u001b[0;31mModuleNotFoundError\u001b[0m                       Traceback (most recent call last)",
      "\u001b[0;32m<ipython-input-3-7da9f55a5922>\u001b[0m in \u001b[0;36m<module>\u001b[0;34m()\u001b[0m\n\u001b[0;32m----> 1\u001b[0;31m \u001b[0;32mimport\u001b[0m \u001b[0mpandas_datareader\u001b[0m \u001b[0;32mas\u001b[0m \u001b[0mpdr\u001b[0m\u001b[0;34m\u001b[0m\u001b[0m\n\u001b[0m",
      "\u001b[0;31mModuleNotFoundError\u001b[0m: No module named 'pandas_datareader'"
     ]
    }
   ],
   "source": [
    "import pandas_datareader as pdr"
   ]
  },
  {
   "cell_type": "code",
   "execution_count": null,
   "metadata": {},
   "outputs": [],
   "source": []
  }
 ],
 "metadata": {
  "kernelspec": {
   "display_name": "Python 3",
   "language": "python",
   "name": "python3"
  },
  "language_info": {
   "codemirror_mode": {
    "name": "ipython",
    "version": 3
   },
   "file_extension": ".py",
   "mimetype": "text/x-python",
   "name": "python",
   "nbconvert_exporter": "python",
   "pygments_lexer": "ipython3",
   "version": "3.6.5"
  }
 },
 "nbformat": 4,
 "nbformat_minor": 2
}
